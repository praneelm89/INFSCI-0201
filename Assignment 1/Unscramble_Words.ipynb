{
 "cells": [
  {
   "cell_type": "markdown",
   "id": "8b1e9f0e-03d3-41c6-a200-7568d366e2ce",
   "metadata": {},
   "source": [
    "## INFSCI 201 Assignment 1\n",
    "### Praneel Murthy"
   ]
  },
  {
   "cell_type": "markdown",
   "id": "fc7b536a-edd7-4537-9363-1096f224d192",
   "metadata": {},
   "source": [
    "### 2. Unscramble Words\n",
    "In this task, you will extend the anagram example reviewed in class to create a new Python program that could “unscramble” words. Word unscramblers are commonly used in word-based games such as Wordscapes, Scrabble, Wordle, and Words With Friends. You can review an online implementation of a word unscrambler at https://unscramblex.com/.\n",
    "Using code examples from class (e.g. the Anagram solver), create your own version of a word unscrambler. You can either use the input file provided in class, or you can find your own file that contains all the words in the English language.\n",
    "Unscrambled words refer to the process of rearranging the letters of a scrambled or jumbled word to form a meaningful word. Unlike anagrams, unscrambled words don't necessarily need to use\n",
    "all the original letters; the goal is to rearrange the letters to create a valid word. The resulting word may or may not be related to the original word. For example, given the scrambled word \"trca,\" unscrambling it can yield \"cart\" or \"car,\" both of which are valid words but not necessarily anagrams of each other."
   ]
  },
  {
   "cell_type": "markdown",
   "id": "4a5ffc0d-05cd-462e-ac6e-4f98c15eb9d0",
   "metadata": {},
   "source": [
    "Your program must do the following:\n",
    "1. Read data from the words.txt and store it as a list of individual words.\n",
    "    - Make sure that all the words are in lower case\n",
    "    - Remove preceding and trailing spaces. Hint: there is a specific string function that does this for you.\n",
    "    - Remove the new line character ‘\\n’\n",
    "    - Remove duplicates. Hint: Convert your list to a set and back to a list. Google this to find out how you can create a set from a list and vice versa.\n",
    "2. Ask user for an input word.\n",
    "    - Assume that the user entered a single word.\n",
    "    - Make sure that the user entered an input has at least 3 characters. If the user entered less than 3 characters, ask them to re-enter (until they provide a valid input). If the input is longer than 6 characters, just take the first 6 characters (Hint: use string slicing)\n",
    "    - You can assume that the user will enter only alphabetic characters. So you do not need to check if the input contains numbers, etc.\n",
    "3. Iterative over the list of words you have read from the file to find all words that could be created using the letters of the user input.\n",
    "    - Remember that we are not looking for anagrams but words that can be created by using all or some of the letters in the user input.\n",
    "4. Using that list, print the words based on the following groups:\n",
    "    - All 6-letter words\n",
    "    - All 5-letter words\n",
    "    - All 4-letter words\n",
    "    - All 3-letter words\n",
    "    - Hint: You can sort a list of strings using its length. Google this to find out how!\n",
    "5. Use the word “cardiothoracic” to test your program.\n",
    "    - Also test your program with inputs that has less than 3 characters and longer than 6 characters.\n",
    "6. Allow user to enter multiple inputs unless they type -1 as a sentinel value (a value to terminate the program)."
   ]
  },
  {
   "cell_type": "code",
   "execution_count": 1,
   "id": "7ba069af-9ecf-439c-a65e-26db6e394dd8",
   "metadata": {},
   "outputs": [],
   "source": [
    "# Function to read words from a file and perform preprocessing\n",
    "def read_words(filename):\n",
    "    # Read in words file\n",
    "    words = open(filename).readlines()\n",
    "    # Strip each word of preceding and trailing spaces and '\\n' character\n",
    "    for i in range(len(words)): \n",
    "        words[i] = words[i].strip()\n",
    "    # Convert word list to set\n",
    "    wordsSet = set(words)\n",
    "    # Return words as a list\n",
    "    return list(wordsSet)"
   ]
  },
  {
   "cell_type": "code",
   "execution_count": 2,
   "id": "012e751f-63c0-4257-9de2-f060f8b83aad",
   "metadata": {},
   "outputs": [],
   "source": [
    "# Function to filter words based on user input\n",
    "def filter_words(user_input, words):\n",
    "    filtered_words = []\n",
    "    for word in words:\n",
    "        if len(user_input) >= 3 and all(char in user_input for char in word):\n",
    "            filtered_words.append(word)\n",
    "    return filtered_words"
   ]
  },
  {
   "cell_type": "code",
   "execution_count": 3,
   "id": "1037b18f-a278-4b92-8adc-7fa406c35d10",
   "metadata": {},
   "outputs": [],
   "source": [
    "# Function to print words based on their length\n",
    "def print_words_by_length(words):\n",
    "    # Sort word strings by length in reverse order\n",
    "    words.sort(key=len, reverse = True)\n",
    "    length_groups = {} # Create a dictionary to store words grouped by their length\n",
    "    # iterate through words\n",
    "    for word in words:\n",
    "        length = len(word)\n",
    "        # If length is not already a key in the dictionary, create an empty list for for specified length\n",
    "        if length not in length_groups:\n",
    "            length_groups[length] = []\n",
    "        # Add word to corresponding length group\n",
    "        length_groups[length].append(word)\n",
    "    \n",
    "    # Print all length groups from 3 to 6 \n",
    "    for length, group in length_groups.items():\n",
    "        if length >= 3 and length <= 6: \n",
    "            print(f\"All {length}-letter words:\", group)"
   ]
  },
  {
   "cell_type": "code",
   "execution_count": 4,
   "id": "6bd3f2f1-d856-4400-92e8-3dcc0cdbbe05",
   "metadata": {},
   "outputs": [
    {
     "name": "stdin",
     "output_type": "stream",
     "text": [
      "Enter a word (or -1 to exit):  cardiothoracic\n"
     ]
    },
    {
     "name": "stdout",
     "output_type": "stream",
     "text": [
      "Word: cardio\n",
      "All 6-letter words: ['acarid', 'aradid', 'diiodo', 'icaria', 'acadia', 'coccid', 'iridic', 'diacid', 'carida', 'ararao', 'doodad', 'cacara', 'cardia', 'rococo', 'acidic', 'accord', 'circar', 'cicada', 'dardic', 'diadic', 'dorado', 'caroid', 'diodia', 'riccia', 'carica', 'acoria', 'doodia', 'raioid', 'caraco', 'ricrac', 'carara', 'radiac', 'cracca', 'corcir', 'oraria', 'didric', 'acacia', 'cordia', 'cariri', 'coccic', 'caccia']\n",
      "All 5-letter words: ['arado', 'acrid', 'coroa', 'icaco', 'crcao', 'arara', 'circa', 'radar', 'acara', 'radio', 'araca', 'radii', 'ardor', 'coaid', 'aroid', 'addio', 'rorid', 'daroo', 'coria', 'dorad', 'icica', 'roric', 'cocoa', 'arioi', 'cacao', 'daira', 'idaic', 'cocao', 'caddo', 'crood', 'oaric', 'iodic', 'cocco', 'irido', 'acari', 'draco', 'oidia', 'darci', 'doria', 'cairo', 'aroar', 'doric', 'addda', 'adrad', 'carri', 'acroa', 'caroa', 'darii', 'croci', 'cirri', 'accra', 'cocci', 'cicad', 'dirca', 'daric', 'iddio', 'caird', 'darac', 'cardo', 'dairi', 'carid', 'ardri', 'iodid']\n",
      "All 4-letter words: ['dada', 'road', 'darr', 'cric', 'raia', 'arco', 'adda', 'cair', 'rood', 'codo', 'roar', 'acid', 'drad', 'cadi', 'caid', 'adod', 'odor', 'dard', 'ooid', 'aira', 'ador', 'cord', 'corr', 'circ', 'cara', 'orra', 'dido', 'dcor', 'adad', 'odic', 'ciao', 'coca', 'rodd', 'card', 'dodd', 'ccid', 'icod', 'ordo', 'acad', 'dado', 'arca', 'acca', 'cora', 'acor', 'coir', 'dodo', 'caic', 'arri', 'coda', 'irid', 'iodo', 'rada', 'raad', 'rori', 'arad', 'oord', 'roid', 'dorr', 'coco', 'arar', 'caci', 'orca', 'raid', 'caro', 'addr', 'dioc', 'aria', 'carr', 'idic', 'oooo', 'adar', 'orad', 'caca', 'adai', 'arid', 'door', 'dori', 'croc', 'dora', 'dird', 'dari', 'rara']\n",
      "All 3-letter words: ['roi', 'doo', 'adc', 'ara', 'rod', 'dor', 'iii', 'odd', 'arr', 'doc', 'cia', 'ido', 'acc', 'dad', 'doa', 'rio', 'ira', 'aor', 'ord', 'add', 'did', 'oca', 'rcd', 'dca', 'cad', 'ric', 'aid', 'car', 'cdr', 'cid', 'dao', 'dod', 'oii', 'aaa', 'oad', 'crc', 'ora', 'orc', 'rad', 'cir', 'roc', 'arc', 'aro', 'rid', 'cro', 'cai', 'coo', 'air', 'ada', 'dar', 'ado', 'cor', 'iao', 'ida', 'dia', 'oda', 'roo', 'cod', 'oar', 'ria', 'dir']\n"
     ]
    },
    {
     "name": "stdin",
     "output_type": "stream",
     "text": [
      "Enter a word (or -1 to exit):  -1\n"
     ]
    }
   ],
   "source": [
    "# Main program\n",
    "if __name__ == \"__main__\":\n",
    "    word_filename = \"words.txt\"\n",
    "    words = read_words(word_filename)\n",
    "    \n",
    "    while True:\n",
    "        user_input = input(\"Enter a word (or -1 to exit): \").strip().lower()\n",
    "        \n",
    "        if user_input == \"-1\": \n",
    "            break\n",
    "        \n",
    "        if len(user_input) < 3:\n",
    "            print(\"Please enter a word with at least 3 characters.\")\n",
    "            continue\n",
    "        \n",
    "        user_input = user_input[:6]  # Take the first 6 characters if longer\n",
    "        print(\"Word:\", user_input)\n",
    "        filtered_words = filter_words(user_input, words)\n",
    "        \n",
    "        if not filtered_words: \n",
    "            print(\"No matching words found.\")\n",
    "        else: \n",
    "            print_words_by_length(filtered_words)"
   ]
  }
 ],
 "metadata": {
  "kernelspec": {
   "display_name": "Python 3",
   "language": "python",
   "name": "python3"
  },
  "language_info": {
   "codemirror_mode": {
    "name": "ipython",
    "version": 3
   },
   "file_extension": ".py",
   "mimetype": "text/x-python",
   "name": "python",
   "nbconvert_exporter": "python",
   "pygments_lexer": "ipython3",
   "version": "3.8.8"
  }
 },
 "nbformat": 4,
 "nbformat_minor": 5
}
