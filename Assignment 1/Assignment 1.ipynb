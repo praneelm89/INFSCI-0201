{
 "cells": [
  {
   "cell_type": "markdown",
   "metadata": {},
   "source": [
    "## INFSCI 201 Assignment 1\n",
    "### Praneel Murthy"
   ]
  },
  {
   "cell_type": "markdown",
   "metadata": {},
   "source": [
    "### 1. Decomposing Money\n",
    "- Ask the user to enter a number representing an amount of money from 1 dollar to 9999 dollars (integer). Make sure that you check if the user entered an integer value between 1 and 9999. If not, prompt user to enter a number again (until the user successfully enter one). Hint: You should use one of the loop structures we covered in the class.\n",
    "- Output the number of \"bucks\" (single dollar), \"sawbucks\" (10s), \"Benjamins\" (100) and \"grands\" (1000) corresponding to the amount entered by the user. For example if the user enters 7528, the program should output:\n",
    "    - 7 grands\n",
    "    - 5 Benjamins\n",
    "    - 2 sawbucks\n",
    "    - 8 bucks\n",
    "- HINT: you can decompose the total amount by using integer division and modulus (%) operator. For example dividing by 1000 will give you the number of \"grands\", and then using the remainder of this division to get the rest. You do not need to use loops.\n",
    "- Make sure to test your code with multiple user inputs"
   ]
  },
  {
   "cell_type": "code",
   "execution_count": 1,
   "metadata": {},
   "outputs": [
    {
     "name": "stdin",
     "output_type": "stream",
     "text": [
      "Enter a number representing an amount of money from $1 to $9999 (Do not enter '$'):   7528\n"
     ]
    },
    {
     "name": "stdout",
     "output_type": "stream",
     "text": [
      "7 grands\n",
      "5 Benjamins\n",
      "2 sawbucks\n",
      "8 bucks\n"
     ]
    }
   ],
   "source": [
    "correctInput = False\n",
    "while correctInput == False:\n",
    "    moneyVal = int(input(\"Enter a number representing an amount of money from $1 to $9999 (Do not enter '$'):  \"))\n",
    "    if (moneyVal <= 9999) & (moneyVal >= 1):\n",
    "        correctInput = True\n",
    "        break;\n",
    "\n",
    "\n",
    "grands = int(moneyVal / 1000)\n",
    "moneyVal = moneyVal % 1000\n",
    "\n",
    "bens = int(moneyVal / 100)\n",
    "moneyVal = moneyVal % 100\n",
    "\n",
    "saws = int(moneyVal / 10)\n",
    "moneyVal = moneyVal % 10\n",
    "\n",
    "bucks = moneyVal\n",
    "\n",
    "print(grands, \"grands\")\n",
    "print(bens, \"Benjamins\")\n",
    "print(saws, \"sawbucks\")\n",
    "print(bucks, \"bucks\")"
   ]
  },
  {
   "cell_type": "markdown",
   "metadata": {},
   "source": [
    "### 2. Unscramble Words\n",
    "In this task, you will extend the anagram example reviewed in class to create a new Python program that could “unscramble” words. Word unscramblers are commonly used in word-based games such as Wordscapes, Scrabble, Wordle, and Words With Friends. You can review an online implementation of a word unscrambler at https://unscramblex.com/.\n",
    "Using code examples from class (e.g. the Anagram solver), create your own version of a word unscrambler. You can either use the input file provided in class, or you can find your own file that contains all the words in the English language.\n",
    "Unscrambled words refer to the process of rearranging the letters of a scrambled or jumbled word to form a meaningful word. Unlike anagrams, unscrambled words don't necessarily need to use\n",
    "all the original letters; the goal is to rearrange the letters to create a valid word. The resulting word may or may not be related to the original word. For example, given the scrambled word \"trca,\" unscrambling it can yield \"cart\" or \"car,\" both of which are valid words but not necessarily anagrams of each other."
   ]
  },
  {
   "cell_type": "markdown",
   "metadata": {},
   "source": [
    "Your program must do the following:\n",
    "1. Read data from the words.txt and store it as a list of individual words.\n",
    "    - Make sure that all the words are in lower case\n",
    "    - Remove preceding and trailing spaces. Hint: there is a specific string function that does this for you.\n",
    "    - Remove the new line character ‘\\n’\n",
    "    - Remove duplicates. Hint: Convert your list to a set and back to a list. Google this to find out how you can create a set from a list and vice versa.\n",
    "2. Ask user for an input word.\n",
    "    - Assume that the user entered a single word.\n",
    "    - Make sure that the user entered an input has at least 3 characters. If the user entered less than 3 characters, ask them to re-enter (until they provide a valid input). If the input is longer than 6 characters, just take the first 6 characters (Hint: use string slicing)\n",
    "    - You can assume that the user will enter only alphabetic characters. So you do not need to check if the input contains numbers, etc.\n",
    "3. Iterative over the list of words you have read from the file to find all words that could be created using the letters of the user input.\n",
    "    - Remember that we are not looking for anagrams but words that can be created by using all or some of the letters in the user input.\n",
    "4. Using that list, print the words based on the following groups:\n",
    "    - All 6-letter words\n",
    "    - All 5-letter words\n",
    "    - All 4-letter words\n",
    "    - All 3-letter words\n",
    "    - Hint: You can sort a list of strings using its length. Google this to find out how!\n",
    "5. Use the word “cardiothoracic” to test your program.\n",
    "    - Also test your program with inputs that has less than 3 characters and longer than 6 characters.\n",
    "6. Allow user to enter multiple inputs unless they type -1 as a sentinel value (a value to terminate the program)."
   ]
  },
  {
   "cell_type": "code",
   "execution_count": 2,
   "metadata": {},
   "outputs": [],
   "source": [
    "# 1\n",
    "# Read in Words.txt\n",
    "words = open(\"words.txt\").readlines()\n",
    "\n",
    "# Strip each word of preceding and trailing spaces and '\\n' character\n",
    "for i in range(len(words)):\n",
    "    words[i] = words[i].strip()\n",
    "    \n",
    "# len(words)\n",
    "\n",
    "# Convert word list to set\n",
    "wordSet = set(words)\n",
    "# Convert word set to list\n",
    "words = list(wordSet)"
   ]
  },
  {
   "cell_type": "code",
   "execution_count": 3,
   "metadata": {},
   "outputs": [],
   "source": [
    "def UnscrambleWords():\n",
    "    # 2\n",
    "    correctInput = False\n",
    "    while correctInput == False:\n",
    "        # Input\n",
    "        inputWord = input(\"Please enter a word: \")\n",
    "        # Lowercase characters\n",
    "        inputWord = inputWord.lower()\n",
    "        # Check if larger than 3 characters\n",
    "        if(inputWord == \"-1\"):\n",
    "            return \"-1\"\n",
    "        elif (len(inputWord) < 3):\n",
    "            correctInput = False\n",
    "        # Trim if longer than 6 characters\n",
    "        elif(len(inputWord) > 6):\n",
    "            inputWord = inputWord[0:6]\n",
    "            break;\n",
    "        # Allow less than 6 characters\n",
    "        elif(len(inputWord) <= 6):\n",
    "            correctInput = True\n",
    "            break;\n",
    "    print(\"Word: \", inputWord)\n",
    "\n",
    "\n",
    "    # 3\n",
    "    # sort characters in input word\n",
    "    sorted_input = sorted(inputWord)\n",
    "    # Find words with same characters\n",
    "    wordList_6_char = []\n",
    "    wordList_5_char = []\n",
    "    wordList_4_char = []\n",
    "    wordList_3_char = []\n",
    "    \n",
    "    for word in words:\n",
    "        sorted_word = sorted(word)\n",
    "        if len(sorted_input) >= 6:\n",
    "            if sorted_input == sorted_word:\n",
    "                wordList_6_char.append(word)\n",
    "    \n",
    "    for word in words:\n",
    "        sorted_word = sorted(word)\n",
    "        if len(sorted_input) >= 5:\n",
    "            sorted_input = sorted_input[0:5]\n",
    "            if sorted_input == sorted_word:\n",
    "                wordList_5_char.append(word)      \n",
    "        \n",
    "    for word in words:\n",
    "        sorted_word = sorted(word)\n",
    "        if len(sorted_input) >= 4:\n",
    "            sorted_input = sorted_input[0:4]\n",
    "            if sorted_input == sorted_word:\n",
    "                wordList_4_char.append(word)\n",
    "    \n",
    "    for word in words:        \n",
    "        sorted_word = sorted(word)        \n",
    "        if len(sorted_input) >= 3:\n",
    "            sorted_input = sorted_input[0:3]\n",
    "            if sorted_input == sorted_word:\n",
    "                wordList_3_char.append(word)\n",
    "\n",
    "    # 4\n",
    "    print(\"6-letter-words: \", wordList_6_char)\n",
    "    print(\"5-letter-words: \", wordList_5_char)\n",
    "    print(\"4-letter-words: \", wordList_4_char)\n",
    "    print(\"3-letter-words: \", wordList_3_char)\n",
    "    \n",
    "    return inputWord"
   ]
  },
  {
   "cell_type": "code",
   "execution_count": 4,
   "metadata": {},
   "outputs": [
    {
     "name": "stdin",
     "output_type": "stream",
     "text": [
      "Please enter a word:  cardiothoracic\n"
     ]
    },
    {
     "name": "stdout",
     "output_type": "stream",
     "text": [
      "Word:  cardio\n",
      "6-letter-words:  ['cordia', 'caroid']\n",
      "5-letter-words:  ['coaid']\n",
      "4-letter-words:  ['caid', 'acid', 'cadi']\n",
      "3-letter-words:  ['dca', 'adc', 'cad']\n"
     ]
    },
    {
     "name": "stdin",
     "output_type": "stream",
     "text": [
      "Please enter a word:  dictionary\n"
     ]
    },
    {
     "name": "stdout",
     "output_type": "stream",
     "text": [
      "Word:  dictio\n",
      "6-letter-words:  ['diotic']\n",
      "5-letter-words:  ['iodic']\n",
      "4-letter-words:  ['idic']\n",
      "3-letter-words:  ['cid']\n"
     ]
    },
    {
     "name": "stdin",
     "output_type": "stream",
     "text": [
      "Please enter a word:  -1\n"
     ]
    }
   ],
   "source": [
    "# 6\n",
    "condition = \"word\"\n",
    "while condition != \"-1\":\n",
    "    condition = UnscrambleWords()"
   ]
  }
 ],
 "metadata": {
  "kernelspec": {
   "display_name": "Python 3",
   "language": "python",
   "name": "python3"
  },
  "language_info": {
   "codemirror_mode": {
    "name": "ipython",
    "version": 3
   },
   "file_extension": ".py",
   "mimetype": "text/x-python",
   "name": "python",
   "nbconvert_exporter": "python",
   "pygments_lexer": "ipython3",
   "version": "3.8.3"
  }
 },
 "nbformat": 4,
 "nbformat_minor": 4
}
