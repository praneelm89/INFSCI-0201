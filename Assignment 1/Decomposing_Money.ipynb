{
 "cells": [
  {
   "cell_type": "markdown",
   "id": "425b663d-1e62-4d38-9f86-7fa2ab5f417d",
   "metadata": {},
   "source": [
    "## INFSCI 201 Assignment 1\n",
    "### Praneel Murthy"
   ]
  },
  {
   "cell_type": "markdown",
   "id": "81e2d6bf-8045-4493-819d-4408f8ec89b8",
   "metadata": {},
   "source": [
    "### 1. Decomposing Money\n",
    "- Ask the user to enter a number representing an amount of money from 1 dollar to 9999 dollars (integer). Make sure that you check if the user entered an integer value between 1 and 9999. If not, prompt user to enter a number again (until the user successfully enter one). Hint: You should use one of the loop structures we covered in the class.\n",
    "- Output the number of \"bucks\" (single dollar), \"sawbucks\" (10s), \"Benjamins\" (100) and \"grands\" (1000) corresponding to the amount entered by the user. For example if the user enters 7528, the program should output:\n",
    "    - 7 grands\n",
    "    - 5 Benjamins\n",
    "    - 2 sawbucks\n",
    "    - 8 bucks\n",
    "- HINT: you can decompose the total amount by using integer division and modulus (%) operator. For example dividing by 1000 will give you the number of \"grands\", and then using the remainder of this division to get the rest. You do not need to use loops.\n",
    "- Make sure to test your code with multiple user inputs"
   ]
  },
  {
   "cell_type": "code",
   "execution_count": 6,
   "id": "0bae265c-30e1-4ecd-9962-6d1faac5cb6a",
   "metadata": {},
   "outputs": [],
   "source": [
    "# Function returns a valid integer input within specified range\n",
    "def get_valid_amount():\n",
    "    while True:\n",
    "        amount = input(\"Enter a number representing an amount of money from $1 to $9999 (Do not enter '$'):  \")\n",
    "        # Check if the input is a positive integer\n",
    "        if amount.isdigit():\n",
    "            # Check if the input is within specified range\n",
    "            if 1 <= int(amount) <= 9999:\n",
    "                return int(amount)\n",
    "        print(\"Please enter a valid amount between 1 and 9999\")"
   ]
  },
  {
   "cell_type": "code",
   "execution_count": 8,
   "id": "1992d195-38b2-43ab-97e0-9f3450a1f01c",
   "metadata": {},
   "outputs": [
    {
     "name": "stdin",
     "output_type": "stream",
     "text": [
      "Enter a number representing an amount of money from $1 to $9999 (Do not enter '$'):   7528\n"
     ]
    },
    {
     "name": "stdout",
     "output_type": "stream",
     "text": [
      "7 grands\n",
      "5 Benjamins\n",
      "2 sawbucks\n",
      "8 bucks\n"
     ]
    }
   ],
   "source": [
    "moneyVal = get_valid_amount()\n",
    "# Calculation of the number of grands, Benjamins, sawbucks, and bucks utilizing Floor division and Modulus Operators\n",
    "grands = moneyVal // 1000 \n",
    "remainder = moneyVal % 1000\n",
    "bens = remainder // 100\n",
    "remainder %= 100\n",
    "saws = remainder // 10\n",
    "bucks = remainder % 10\n",
    "\n",
    "# Output\n",
    "print(grands, \"grands\")\n",
    "print(bens, \"Benjamins\")\n",
    "print(saws, \"sawbucks\")\n",
    "print(bucks, \"bucks\")"
   ]
  }
 ],
 "metadata": {
  "kernelspec": {
   "display_name": "Python 3",
   "language": "python",
   "name": "python3"
  },
  "language_info": {
   "codemirror_mode": {
    "name": "ipython",
    "version": 3
   },
   "file_extension": ".py",
   "mimetype": "text/x-python",
   "name": "python",
   "nbconvert_exporter": "python",
   "pygments_lexer": "ipython3",
   "version": "3.8.8"
  }
 },
 "nbformat": 4,
 "nbformat_minor": 5
}
